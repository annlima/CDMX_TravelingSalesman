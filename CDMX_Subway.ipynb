{
  "nbformat": 4,
  "nbformat_minor": 0,
  "metadata": {
    "colab": {
      "provenance": [],
      "machine_shape": "hm",
      "gpuType": "L4"
    },
    "kernelspec": {
      "name": "python3",
      "display_name": "Python 3"
    },
    "language_info": {
      "name": "python"
    },
    "accelerator": "GPU"
  },
  "cells": [
    {
      "cell_type": "markdown",
      "source": [
        "# Hands On Genetic Algorithms\n",
        "\n",
        "Reference for this notebook was Hands-On Genetic Algorithms with Python\n",
        "Eyal Wirsansky.\n",
        "\n",
        "This code was doing using as reference the codes in Kie's GitHub (https://github.com/kiecodes/genetic-algorithms) and ChatGPT.\n",
        "\n",
        "Team:\n",
        "\n",
        "\n",
        "*   Andrea Lima Blanca\n",
        "*   Dicka Jamesina Lezama Alvarado\n",
        "*   Georgina Zerón Cabrera\n",
        "*   Diego Gasparis Escobedo\n",
        "\n",
        "\n",
        "\n"
      ],
      "metadata": {
        "id": "IIcbyZWkk1Wh"
      }
    },
    {
      "cell_type": "markdown",
      "source": [
        "##Libraries for graphs\n"
      ],
      "metadata": {
        "id": "3GvfS7EfDRGw"
      }
    },
    {
      "cell_type": "code",
      "source": [
        "import networkx as nx"
      ],
      "metadata": {
        "id": "9S32V7OpDQwF"
      },
      "execution_count": null,
      "outputs": []
    },
    {
      "cell_type": "markdown",
      "source": [
        "## Abstracion of the problem: Train station problem CDMX"
      ],
      "metadata": {
        "id": "w0Ua_E0_lojl"
      }
    },
    {
      "cell_type": "code",
      "source": [
        "import networkx as nx\n",
        "\n",
        "graphMX = nx.Graph()\n",
        "\n",
        "# Correctly adding nodes to the graph\n",
        "graphMX.add_nodes_from([\"El Rosario\", \"Instituto del Petroleo\", \"Deportivo 18 de Marzo\", \"Martin Carrera\",\n",
        "                        \"Politecnico\", \"La Raza\", \"Consulado\", \"Oceanía\", \"Pantitlan\",\n",
        "                        \"Indios Verdes\", \"Guerrero\", \"Hidalgo\", \"Balderas\", \"Centro Medico\", \"Zapata\", \"Universidad\",\n",
        "                        \"Morelos\", \"Candelaria\", \"Jamaica\", \"Tacuba\", \"Tacubaya\", \"Mixcoac\", \"Barranca del Muerto\",\n",
        "                        \"Cuatro Caminos\", \"Bellas Artes\", \"Pino Suarez\", \"Chabacano\", \"Ermita\", \"Tasqueña\", \"Santa Anita\"\n",
        "                        \"Garibaldi\", \"San Lazaro\", \"Ciudad Azteca\", \"Salto del Agua\", \"Atlalilco\", \"Gomez Farias\", \"Tlahuac\"])\n",
        "\n",
        "# Adding edges with attributes\n",
        "graphMX.add_edge(\"Tacubaya\", \"Tacuba\", line_id=\"7 (Orange)\", segments=5)\n",
        "graphMX.add_edge(\"Tacubaya\", \"Balderas\", line_id=\"1 (Pink)\", segments=6)\n",
        "graphMX.add_edge(\"Tacubaya\", \"Centro Medico\", line_id=\"9 (Brown)\", segments=3)\n",
        "graphMX.add_edge(\"Tacubaya\", \"Mixcoac\", line_id=\"7 (Orange)\", segments=3)\n",
        "\n",
        "# Balderas\n",
        "graphMX.add_edge(\"Balderas\", \"Tacubaya\", line_id=\"1, (Pink)\", segments= 6)\n",
        "graphMX.add_edge(\"Balderas\", \"Hidalgo\", line_id=\"3 (Olive)\", segments= 2)\n",
        "graphMX.add_edge(\"Balderas\", \"Centro Medico\", line_id=\"3 (Olive)\", segments= 3)\n",
        "graphMX.add_edge(\"Balderas\", \"Salto del Agua\", line_id=\"1 (Pink)\", segments= 1)\n",
        "\n",
        "# Salto del Agua\n",
        "graphMX.add_edge(\"Salto del Agua\", \"Bellas Artes\", line_id=\"8 (Green)\", segments= 2)\n",
        "graphMX.add_edge(\"Salto del Agua\", \"Balderas\", line_id=\"1 (Pink)\", segments= 1)\n",
        "graphMX.add_edge(\"Salto del Agua\", \"Pino Suarez\", line_id=\"1 (Pink)\", segments= 2)\n",
        "graphMX.add_edge(\"Salto del Agua\", \"Chabacano\", line_id=\"8 (Green)\", segments= 3)\n",
        "\n",
        "# Pino Suárez\n",
        "graphMX.add_edge(\"Pino Suarez\", \"Bellas Artes\", line_id=\"2 (Blue)\", segments= 3)\n",
        "graphMX.add_edge(\"Pino Suarez\", \"Salto del Agua\", line_id=\"1 (Pink)\", segments= 2)\n",
        "graphMX.add_edge(\"Pino Suarez\", \"Candelaria\", line_id=\"1 (Pink)\", segments= 2)\n",
        "graphMX.add_edge(\"Pino Suarez\", \"Chabacano\", line_id=\"2 (Blue)\", segments=2)\n",
        "\n",
        "# Candelaria\n",
        "graphMX.add_edge(\"Candelaria\", \"Pino Suarez\", line_id=\"1 (Pink)\", segments=2)\n",
        "graphMX.add_edge(\"Candelaria\", \"Morelos\", line_id=\"4 (Cyan)\", segments=1)\n",
        "graphMX.add_edge(\"Candelaria\", \"San Lazaro\", line_id=\"1 (Pink)\", segments=1)\n",
        "graphMX.add_edge(\"Candelaria\", \"Jamaica\", line_id=\"4 (Cyan)\", segments=2)\n",
        "\n",
        "# San Lázaro\n",
        "graphMX.add_edge(\"San Lazaro\", \"Candelaria\", line_id=\"1 (Pink)\", segments=1)\n",
        "graphMX.add_edge(\"San Lazaro\", \"Morelos\", line_id=\"B (GrayGreen)\", segments=1)\n",
        "graphMX.add_edge(\"San Lazaro\", \"Gomez Farias\", line_id=\"B (GrayGreen)\", segments=3)\n",
        "\n",
        "# Pantitlán\n",
        "graphMX.add_edge(\"Pantitlan\", \"Oceania\", line_id=\"5 (Yellow)\", segments= 3)\n",
        "graphMX.add_edge(\"Pantitlan\", \"Jamaica\", line_id=\"9 (Brown)\", segments=5)\n",
        "graphMX.add_edge(\"Pantitlan\", \"Gomez Farias\", line_id=\"1 (Pink)\", segments=6)\n",
        "\n",
        "#Tacubaya\n",
        "graphMX.add_edge(\"Tacubaya\", \"Tacuba\", line_id=\"7 (Orange)\", segments= 5)\n",
        "graphMX.add_edge(\"Tacubaya\", \"Mixcoac\", line_id=\"7 (Orange)\", segments= 3)\n",
        "graphMX.add_edge(\"Tacubaya\", \"Centro Medico\", line_id=\"9 (Brown)\", segments= 3)\n",
        "graphMX.add_edge(\"Tacubaya\", \"Balderas\", line_id=\"1 (Pink)\", segments= 6)\n",
        "\n",
        "#Mixcoac\n",
        "graphMX.add_edge(\"Mixcoac\", \"Tacubaya\", line_id=\"7 (Orange)\", segments= 3)\n",
        "graphMX.add_edge(\"Mixcoac\", \"Zapata\", line_id=\"12 (Gold)\", segments= 3)\n",
        "graphMX.add_edge(\"Mixcoac\", \"Barranca del Muerto\", line_id=\"7 (Orange)\", segments= 1)\n",
        "\n",
        "#Tacuba\n",
        "graphMX.add_edge(\"Tacuba\", \"Tacubaya\", line_id=\"7 (Orange)\", segments= 5)\n",
        "graphMX.add_edge(\"Tacuba\", \"Hidalgo\", line_id=\"2 (Blue)\", segments= 7)\n",
        "graphMX.add_edge(\"Tacuba\", \"El Rosario\", line_id=\"7 (Orange)\", segments= 4)\n",
        "\n",
        "#El Rosario\n",
        "graphMX.add_edge(\"El Rosario\", \"Instituto del Petroleo\", line_id=\"6 (Red)\", segments= 6)\n",
        "graphMX.add_edge(\"El Rosario\", \"Tacuba\", line_id=\"7 (Orange)\", segments= 4)\n",
        "\n",
        "#Instituto del Petróleo\n",
        "graphMX.add_edge(\"Instituto del Petroleo\", \"El Rosario\", line_id=\"6 (Red)\", segments= 6)\n",
        "graphMX.add_edge(\"Instituto del Petroleo\", \"La Raza\", line_id=\"5 (Yellow)\", segments= 2)\n",
        "graphMX.add_edge(\"Instituto del Petroleo\", \"Deportivo 18 de Marzo\", line_id=\"6 (Red)\", segments= 2)\n",
        "graphMX.add_edge(\"Instituto del Petroleo\", \"Politecnico\", line_id=\"5 (Yellow)\", segments= 1)\n",
        "\n",
        "#Deportivo 18 de Marzo\n",
        "graphMX.add_edge(\"Deportivo 18 de Marzo\", \"Instituto del Petroleo\", line_id=\"6 (Red)\", segments= 2)\n",
        "graphMX.add_edge(\"Deportivo 18 de Marzo\", \"La Raza\", line_id=\"3 (Olive)\", segments= 2)\n",
        "graphMX.add_edge(\"Deportivo 18 de Marzo\", \"Martin Carrera\", line_id=\"6 (Red)\", segments= 2)\n",
        "graphMX.add_edge(\"Deportivo 18 de Marzo\", \"Indios Verdes\", line_id=\"3 (Olive)\", segments= 1)\n",
        "\n",
        "#Martin Carrera\n",
        "graphMX.add_edge(\"Martin Carrera\", \"Deportivo 18 de Marzo\", line_id=\"6 (Red)\", segments= 2)\n",
        "graphMX.add_edge(\"Martin Carrera\", \"Consulado\", line_id=\"4 (Cyan)\", segments= 3)\n",
        "\n",
        "#Consulado\n",
        "graphMX.add_edge(\"Consulado\", \"Martin Carrera\", line_id=\"4 (Cyan)\", segments= 3)\n",
        "graphMX.add_edge(\"Consulado\", \"La Raza\", line_id=\"5 (Yellow)\", segments= 3)\n",
        "graphMX.add_edge(\"Consulado\", \"Oceania\", line_id=\"5 (Yellow)\", segments= 3)\n",
        "graphMX.add_edge(\"Consulado\", \"Morelos\", line_id=\"4 (Cyan)\", segments= 2)\n",
        "\n",
        "#Morelos\n",
        "graphMX.add_edge(\"Morelos\", \"Consulado\", line_id=\"4 (Cyan)\", segments = 2)\n",
        "graphMX.add_edge(\"Morelos\", \"Candelaria\", line_id=\"4 (Cyan)\", segments= 1)\n",
        "graphMX.add_edge(\"Morelos\", \"Garibaldi\", line_id=\"B (GrayGreen)\", segments = 3)\n",
        "graphMX.add_edge(\"Morelos\", \"San Lazaro\", line_id=\"B (GrayGreen)\", segments = 1)\n",
        "\n",
        "#Candelaria\n",
        "graphMX.add_edge(\"Candelaria\", \"Morelos\", line_id=\"4 (Cyan)\", segments = 1)\n",
        "graphMX.add_edge(\"Candelaria\", \"San Lazaro\", line_id=\"1 (Pink)\", segments= 1)\n",
        "graphMX.add_edge(\"Candelaria\", \"Jamaica\", line_id=\"4 (Cyan)\", segments= 3)\n",
        "graphMX.add_edge(\"Candelaria\", \"Pino Suarez\", line_id=\"1 (Pink)\", segments= 3)\n",
        "\n",
        "#Jamaica\n",
        "graphMX.add_edge(\"Jamaica\", \"Chabacano\", line_id=\"9 (Brown)\", segments= 1)\n",
        "graphMX.add_edge(\"Jamaica\", \"Candelaria\", line_id=\"4 (Cyan)\", segments= 2)\n",
        "graphMX.add_edge(\"Jamaica\", \"Pantitlan\", line_id=\"9 (Brown)\", segments= 5)\n",
        "\n",
        "#La Raza\n",
        "graphMX.add_edge(\"La Raza\", \"Instituto del Petroleo\", line_id=\"5 (Yellow)\", segments= 2)\n",
        "graphMX.add_edge(\"La Raza\", \"Deportivo 18 de Marzo\", line_id=\"3 (Olive)\", segments= 2)\n",
        "graphMX.add_edge(\"La Raza\", \"Consulado\", line_id=\"5 (Yellow)\", segments= 3)\n",
        "graphMX.add_edge(\"La Raza\", \"Guerrero\", line_id=\"3 (Olive)\", segments= 2)\n",
        "\n",
        "#Guerrero\n",
        "graphMX.add_edge(\"Guerrero\", \"Garibaldi\", line_id=\"B (GrayGreen)\", segments= 1)\n",
        "graphMX.add_edge(\"Guerrero\", \"Hidalgo\", line_id=\"3 (Olive)\", segments= 1)\n",
        "graphMX.add_edge(\"Guerrero\", \"La Raza\", line_id=\"3 (Olive)\", segments= 2)\n",
        "\n",
        "#Hidalgo\n",
        "graphMX.add_edge(\"Hidalgo\", \"Guerrero\", line_id=\"3 (Olive)\", segments= 1)\n",
        "graphMX.add_edge(\"Hidalgo\", \"Tacuba\", line_id=\"2 (Blue)\", segments= 7)\n",
        "graphMX.add_edge(\"Hidalgo\", \"Balderas\", line_id=\"3 (Olive)\", segments=2)\n",
        "graphMX.add_edge(\"Hidalgo\", \"Bellas Artes\", line_id=\"2 (Blue)\", segments= 1)\n",
        "\n",
        "#Centro Médico\n",
        "graphMX.add_edge(\"Centro Medico\", \"Balderas\", line_id=\"3 (Olive)\", segments= 3)\n",
        "graphMX.add_edge(\"Centro Medico\", \"Tacubaya\", line_id=\"9 (Brown)\", segments= 3)\n",
        "graphMX.add_edge(\"Centro Medico\", \"Chabacano\", line_id=\"9 (Brown)\", segments= 2)\n",
        "graphMX.add_edge(\"Centro Medico\", \"Zapata\", line_id=\"3 (Olive)\", segments= 4)\n",
        "\n",
        "#Zapata\n",
        "graphMX.add_edge(\"Zapata\", \"Mixcoac\", line_id=\"12 (Gold)\", segments= 3)\n",
        "graphMX.add_edge(\"Zapata\", \"Centro Medico\", line_id=\"3 (Olive)\", segments= 4)\n",
        "graphMX.add_edge(\"Zapata\", \"Ermita\", line_id=\"12 (Gold)\", segments= 3)\n",
        "graphMX.add_edge(\"Zapata\", \"Universidad\", line_id=\"3 (Olive)\", segments= 2)\n",
        "\n",
        "#Ermita\n",
        "graphMX.add_edge(\"Ermita\", \"Zapata\", line_id=\"12 (Gold)\", segments= 3)\n",
        "graphMX.add_edge(\"Ermita\", \"Chabacano\", line_id=\"2 (Blue)\", segments= 6)\n",
        "graphMX.add_edge(\"Ermita\", \"Atlalilco\", line_id=\"12 (Gold)\", segments= 2)\n",
        "graphMX.add_edge(\"Ermita\", \"Tasqueña\", line_id=\"2 (Blue)\", segments= 1)\n",
        "\n",
        "#Chabacano\n",
        "graphMX.add_edge(\"Chabacano\", \"Ermita\", line_id=\"2 (Blue)\", segments= 6)\n",
        "graphMX.add_edge(\"Chabacano\", \"Pino Suarez\", line_id=\"2 (Blue)\", segments= 2)\n",
        "graphMX.add_edge(\"Chabacano\", \"Jamaica\", line_id=\"9 (Brown)\", segments= 1)\n",
        "graphMX.add_edge(\"Chabacano\", \"Centro Medico\", line_id=\"9 (Brown)\", segments= 2)\n",
        "graphMX.add_edge(\"Chabacano\", \"Salto del Agua\", line_id=\"8 (Green)\", segments= 3)\n",
        "graphMX.add_edge(\"Chabacano\", \"Santa Anita\", line_id=\"8 (Green)\", segments= 2)\n",
        "\n",
        "#Bellas Artes\n",
        "graphMX.add_edge(\"Bellas Artes\", \"Pino Suarez\", line_id=\"2 (Blue)\", segments= 3)\n",
        "graphMX.add_edge(\"Bellas Artes\", \"Hidalgo\", line_id=\"2 (Blue)\", segments= 1)\n",
        "graphMX.add_edge(\"Bellas Artes\", \"Garibaldi\", line_id=\"8 (Green)\", segments= 1)\n",
        "graphMX.add_edge(\"Bellas Artes\", \"Salto del Agua\", line_id=\"8 (Green)\", segments= 2)\n",
        "\n",
        "#Garibaldi\n",
        "graphMX.add_edge(\"Garibaldi\", \"Bellas Artes\", line_id=\"8 (Green)\", segments= 1)\n",
        "graphMX.add_edge(\"Garibaldi\", \"Guerrero\", line_id=\"B (GrayGreen)\", segments= 1)\n",
        "graphMX.add_edge(\"Garibaldi\", \"Morelos\", line_id=\"B (GrayGreen)\", segments= 3)\n",
        "\n",
        "#Santa Anita\n",
        "graphMX.add_edge(\"Santa Anita\", \"Chabacano\", line_id=\"8 (Green)\", segments= 2)\n",
        "graphMX.add_edge(\"Santa Anita\", \"Jamaica\", line_id=\"4 (Cyan)\", segments= 1)\n",
        "graphMX.add_edge(\"Santa Anita\", \"Atlalilco\", line_id=\"8 (Green)\", segments= 6)\n",
        "\n",
        "#Oceanía\n",
        "graphMX.add_edge(\"Oceania\", \"Pantitlan\", line_id=\"5 (Yellow)\", segments= 3)\n",
        "graphMX.add_edge(\"Oceania\", \"Consulado\", line_id=\"5 (Yellow)\", segments= 3)\n",
        "graphMX.add_edge(\"Oceania\", \"San Lazaro\", line_id=\"B (GrayGreen)\", segments= 3)\n",
        "graphMX.add_edge(\"Oceania\", \"Ciudad Azteca\", line_id=\"B (GrayGreen)\", segments= 1)\n",
        "\n",
        "#Atlalilco\n",
        "graphMX.add_edge(\"Atlalilco\", \"Santa Anita\", line_id=\"8 (Green)\", segments= 6)\n",
        "graphMX.add_edge(\"Atlalilco\", \"Ermita\", line_id=\"12 (Gold)\", segments= 2)\n",
        "graphMX.add_edge(\"Atlalilco\", \"Tlahuac\", line_id=\"12 (Gold)\", segments= 1)\n",
        "\n",
        "#Barranca del Muerto\n",
        "graphMX.add_edge(\"Barranca del Muerto\", \"Mixcoac\", line_id=\"7 (Orange)\", segments= 1)\n",
        "\n",
        "#Universidad\n",
        "graphMX.add_edge(\"Universidad\", \"Zapata\", line_id=\"3 (Olive)\", segments= 2)\n",
        "\n",
        "#Tasqueña\n",
        "graphMX.add_edge(\"Tasqueña\", \"Ermita\", line_id=\"2 (Blue)\", segments= 1)\n",
        "\n",
        "#Tláhuac\n",
        "graphMX.add_edge(\"Tlahuac\", \"Atlalilco\", line_id=\"12 (Gold)\", segments= 1)\n",
        "\n",
        "#Indios Verdas\n",
        "graphMX.add_edge(\"Indios Verdes\", \"Deportivo 18 de Marzo\", line_id=\"3 (Olive)\", segments= 1)\n",
        "\n",
        "#Politecnico\n",
        "graphMX.add_edge(\"Politecnico\", \"Instituto del Petroleo\", line_id=\"5 (Yellow)\", segments= 1)\n",
        "\n",
        "#Ciudad Azteca\n",
        "graphMX.add_edge(\"Ciudad Azteca\", \"Oceania\", line_id=\"B (GrayGreen)\", segments= 1)\n",
        "\n",
        "\n",
        "print(\"Nodes in the graph:\", graphMX.nodes())\n",
        "print(\"Edges in the graph:\", graphMX.edges(data=True))\n",
        "\n"
      ],
      "metadata": {
        "id": "mnT729IQlu3T",
        "colab": {
          "base_uri": "https://localhost:8080/"
        },
        "outputId": "68c0f57c-4b1a-4b26-c7ff-428c64cbffe3"
      },
      "execution_count": null,
      "outputs": [
        {
          "output_type": "stream",
          "name": "stdout",
          "text": [
            "Nodes in the graph: ['El Rosario', 'Instituto del Petroleo', 'Deportivo 18 de Marzo', 'Martin Carrera', 'Politecnico', 'La Raza', 'Consulado', 'Oceanía', 'Pantitlan', 'Indios Verdes', 'Guerrero', 'Hidalgo', 'Balderas', 'Centro Medico', 'Zapata', 'Universidad', 'Morelos', 'Candelaria', 'Jamaica', 'Tacuba', 'Tacubaya', 'Mixcoac', 'Barranca del Muerto', 'Cuatro Caminos', 'Bellas Artes', 'Pino Suarez', 'Chabacano', 'Ermita', 'Tasqueña', 'Santa AnitaGaribaldi', 'San Lazaro', 'Ciudad Azteca', 'Salto del Agua', 'Atlalilco', 'Gomez Farias', 'Tlahuac', 'Oceania', 'Garibaldi', 'Santa Anita']\n",
            "Edges in the graph: [('El Rosario', 'Tacuba', {'line_id': '7 (Orange)', 'segments': 4}), ('El Rosario', 'Instituto del Petroleo', {'line_id': '6 (Red)', 'segments': 6}), ('Instituto del Petroleo', 'La Raza', {'line_id': '5 (Yellow)', 'segments': 2}), ('Instituto del Petroleo', 'Deportivo 18 de Marzo', {'line_id': '6 (Red)', 'segments': 2}), ('Instituto del Petroleo', 'Politecnico', {'line_id': '5 (Yellow)', 'segments': 1}), ('Deportivo 18 de Marzo', 'La Raza', {'line_id': '3 (Olive)', 'segments': 2}), ('Deportivo 18 de Marzo', 'Martin Carrera', {'line_id': '6 (Red)', 'segments': 2}), ('Deportivo 18 de Marzo', 'Indios Verdes', {'line_id': '3 (Olive)', 'segments': 1}), ('Martin Carrera', 'Consulado', {'line_id': '4 (Cyan)', 'segments': 3}), ('La Raza', 'Consulado', {'line_id': '5 (Yellow)', 'segments': 3}), ('La Raza', 'Guerrero', {'line_id': '3 (Olive)', 'segments': 2}), ('Consulado', 'Oceania', {'line_id': '5 (Yellow)', 'segments': 3}), ('Consulado', 'Morelos', {'line_id': '4 (Cyan)', 'segments': 2}), ('Pantitlan', 'Oceania', {'line_id': '5 (Yellow)', 'segments': 3}), ('Pantitlan', 'Jamaica', {'line_id': '9 (Brown)', 'segments': 5}), ('Pantitlan', 'Gomez Farias', {'line_id': '1 (Pink)', 'segments': 6}), ('Guerrero', 'Garibaldi', {'line_id': 'B (GrayGreen)', 'segments': 1}), ('Guerrero', 'Hidalgo', {'line_id': '3 (Olive)', 'segments': 1}), ('Hidalgo', 'Balderas', {'line_id': '3 (Olive)', 'segments': 2}), ('Hidalgo', 'Tacuba', {'line_id': '2 (Blue)', 'segments': 7}), ('Hidalgo', 'Bellas Artes', {'line_id': '2 (Blue)', 'segments': 1}), ('Balderas', 'Tacubaya', {'line_id': '1 (Pink)', 'segments': 6}), ('Balderas', 'Centro Medico', {'line_id': '3 (Olive)', 'segments': 3}), ('Balderas', 'Salto del Agua', {'line_id': '1 (Pink)', 'segments': 1}), ('Centro Medico', 'Tacubaya', {'line_id': '9 (Brown)', 'segments': 3}), ('Centro Medico', 'Chabacano', {'line_id': '9 (Brown)', 'segments': 2}), ('Centro Medico', 'Zapata', {'line_id': '3 (Olive)', 'segments': 4}), ('Zapata', 'Mixcoac', {'line_id': '12 (Gold)', 'segments': 3}), ('Zapata', 'Ermita', {'line_id': '12 (Gold)', 'segments': 3}), ('Zapata', 'Universidad', {'line_id': '3 (Olive)', 'segments': 2}), ('Morelos', 'Candelaria', {'line_id': '4 (Cyan)', 'segments': 1}), ('Morelos', 'San Lazaro', {'line_id': 'B (GrayGreen)', 'segments': 1}), ('Morelos', 'Garibaldi', {'line_id': 'B (GrayGreen)', 'segments': 3}), ('Candelaria', 'Pino Suarez', {'line_id': '1 (Pink)', 'segments': 3}), ('Candelaria', 'San Lazaro', {'line_id': '1 (Pink)', 'segments': 1}), ('Candelaria', 'Jamaica', {'line_id': '4 (Cyan)', 'segments': 2}), ('Jamaica', 'Chabacano', {'line_id': '9 (Brown)', 'segments': 1}), ('Jamaica', 'Santa Anita', {'line_id': '4 (Cyan)', 'segments': 1}), ('Tacuba', 'Tacubaya', {'line_id': '7 (Orange)', 'segments': 5}), ('Tacubaya', 'Mixcoac', {'line_id': '7 (Orange)', 'segments': 3}), ('Mixcoac', 'Barranca del Muerto', {'line_id': '7 (Orange)', 'segments': 1}), ('Bellas Artes', 'Salto del Agua', {'line_id': '8 (Green)', 'segments': 2}), ('Bellas Artes', 'Pino Suarez', {'line_id': '2 (Blue)', 'segments': 3}), ('Bellas Artes', 'Garibaldi', {'line_id': '8 (Green)', 'segments': 1}), ('Pino Suarez', 'Salto del Agua', {'line_id': '1 (Pink)', 'segments': 2}), ('Pino Suarez', 'Chabacano', {'line_id': '2 (Blue)', 'segments': 2}), ('Chabacano', 'Salto del Agua', {'line_id': '8 (Green)', 'segments': 3}), ('Chabacano', 'Ermita', {'line_id': '2 (Blue)', 'segments': 6}), ('Chabacano', 'Santa Anita', {'line_id': '8 (Green)', 'segments': 2}), ('Ermita', 'Atlalilco', {'line_id': '12 (Gold)', 'segments': 2}), ('Ermita', 'Tasqueña', {'line_id': '2 (Blue)', 'segments': 1}), ('San Lazaro', 'Gomez Farias', {'line_id': 'B (GrayGreen)', 'segments': 3}), ('San Lazaro', 'Oceania', {'line_id': 'B (GrayGreen)', 'segments': 3}), ('Ciudad Azteca', 'Oceania', {'line_id': 'B (GrayGreen)', 'segments': 1}), ('Atlalilco', 'Santa Anita', {'line_id': '8 (Green)', 'segments': 6}), ('Atlalilco', 'Tlahuac', {'line_id': '12 (Gold)', 'segments': 1})]\n"
          ]
        }
      ]
    },
    {
      "cell_type": "markdown",
      "source": [
        "## Genetic Algorithm Implementation"
      ],
      "metadata": {
        "id": "RLAQ5D3Fl5d2"
      }
    },
    {
      "cell_type": "code",
      "source": [
        "import random"
      ],
      "metadata": {
        "id": "QntMOe8_l54i"
      },
      "execution_count": null,
      "outputs": []
    },
    {
      "cell_type": "markdown",
      "source": [
        "### Initialization"
      ],
      "metadata": {
        "id": "K2N_0M2AtRaH"
      }
    },
    {
      "cell_type": "markdown",
      "source": [
        "#### Fitness Function\n",
        "\n",
        "The goal is to arrive to x station to y station in the shortest possible time.\n",
        "\n",
        "Therefore, the fitness function will be determined with the distance between stations and the number of lines it will be taken in the process as the changes of station adds dead time.\n"
      ],
      "metadata": {
        "id": "ZABQTjmrlb0i"
      }
    },
    {
      "cell_type": "code",
      "source": [
        "def fitness(path, graph):\n",
        "    total_segments = 0\n",
        "    valid_path = True\n",
        "    for i in range(len(path) - 1):\n",
        "        if graph.has_edge(path[i], path[i + 1]):\n",
        "            total_segments += graph[path[i]][path[i + 1]]['segments']\n",
        "        else:\n",
        "            valid_path = False\n",
        "            break\n",
        "    return 1 / total_segments if total_segments > 0 and valid_path else float('inf')\n"
      ],
      "metadata": {
        "id": "uUAQ-JhLleXy"
      },
      "execution_count": null,
      "outputs": []
    },
    {
      "cell_type": "markdown",
      "source": [
        "#### Initialize population"
      ],
      "metadata": {
        "id": "vSYXEF54lOrb"
      }
    },
    {
      "cell_type": "code",
      "source": [
        "from queue import Queue\n",
        "\n",
        "def bfs_path(graph, start, end):\n",
        "    queue = Queue()\n",
        "    queue.put([start])\n",
        "    visited = set()\n",
        "    while not queue.empty():\n",
        "        path = queue.get()\n",
        "        last_node = path[-1]\n",
        "        if last_node == end:\n",
        "            return path\n",
        "        if last_node not in visited:\n",
        "            visited.add(last_node)\n",
        "            for neighbor in graph.neighbors(last_node):\n",
        "                if neighbor not in path:\n",
        "                    new_path = list(path) + [neighbor]\n",
        "                    queue.put(new_path)\n",
        "    return None\n",
        "\n",
        "def initialize_population(pop_size, graph, start, end):\n",
        "    population = []\n",
        "    while len(population) < pop_size:\n",
        "        path = bfs_path(graph, start, end)\n",
        "        if path:\n",
        "            population.append(path)\n",
        "    return population\n"
      ],
      "metadata": {
        "id": "qEzj6WWalN9s"
      },
      "execution_count": null,
      "outputs": []
    },
    {
      "cell_type": "markdown",
      "source": [
        "#### Crossover"
      ],
      "metadata": {
        "id": "04YjGfNgzEut"
      }
    },
    {
      "cell_type": "code",
      "source": [
        "def is_valid_path(path, graph):\n",
        "    return all(graph.has_edge(path[i], path[i+1]) for i in range(len(path)-1))"
      ],
      "metadata": {
        "id": "mpy7FGQIzEMC"
      },
      "execution_count": null,
      "outputs": []
    },
    {
      "cell_type": "code",
      "source": [
        "def crossover(parent1, parent2, graph):\n",
        "    common_nodes = set(parent1) & set(parent2)\n",
        "    if not common_nodes:\n",
        "        return parent1, parent2\n",
        "\n",
        "    crossover_node = random.choice(list(common_nodes))\n",
        "    idx1 = parent1.index(crossover_node)\n",
        "    idx2 = parent2.index(crossover_node)\n",
        "\n",
        "    new_child1 = parent1[:idx1 + 1] + parent2[idx2 + 1:]\n",
        "    new_child2 = parent2[:idx2 + 1] + parent1[idx1 + 1:]\n",
        "\n",
        "    if not is_valid_path(new_child1, graph) or not is_valid_path(new_child2, graph):\n",
        "        return parent1, parent2\n",
        "    return new_child1, new_child2"
      ],
      "metadata": {
        "id": "-pFAfra5zD2g"
      },
      "execution_count": null,
      "outputs": []
    },
    {
      "cell_type": "markdown",
      "source": [
        "#### Mutation"
      ],
      "metadata": {
        "id": "F24lgI8flVbl"
      }
    },
    {
      "cell_type": "code",
      "source": [
        "def mutate(path, rate, graph):\n",
        "    if random.random() < rate and len(path) > 2:\n",
        "        idx = random.randint(0, len(path) - 3)\n",
        "        alternative_routes = list(nx.all_simple_paths(graph, path[idx], path[idx+2], cutoff=3))\n",
        "        if alternative_routes:\n",
        "            new_route = random.choice(alternative_routes)\n",
        "            if len(new_route) > 2:\n",
        "                path = path[:idx+1] + new_route[1:-1] + path[idx+2:]\n",
        "    return path\n"
      ],
      "metadata": {
        "id": "rogxscq2lav6"
      },
      "execution_count": null,
      "outputs": []
    },
    {
      "cell_type": "markdown",
      "source": [
        "#### Tournament selection"
      ],
      "metadata": {
        "id": "hFTiaDTylQ6a"
      }
    },
    {
      "cell_type": "code",
      "source": [
        "def tournament_selection(population, fitness_scores, size=3):\n",
        "    if len(population) < size:\n",
        "        size = len(population)\n",
        "    if size == 0:\n",
        "        raise ValueError(\"Population is empty, cannot perform selection.\")\n",
        "    tournament = random.sample(population, size)\n",
        "    try:\n",
        "        best_individual = max(tournament, key=lambda x: fitness_scores[tuple(x)])\n",
        "    except KeyError as e:\n",
        "        print(\"Key error with path:\", e)\n",
        "        for p in tournament:\n",
        "            print(f\"Path: {p}, Score available: {tuple(p) in fitness_scores}\")\n",
        "        raise\n",
        "    return best_individual\n"
      ],
      "metadata": {
        "id": "oT1vImgMlbKx"
      },
      "execution_count": null,
      "outputs": []
    },
    {
      "cell_type": "markdown",
      "source": [
        "## Run of evolution\n"
      ],
      "metadata": {
        "id": "68ikkXKAvMRX"
      }
    },
    {
      "cell_type": "code",
      "source": [
        "def genetic_algorithm(graph, start, end, generations=10, population_size=10):\n",
        "    population = initialize_population(population_size, graph, start, end)\n",
        "    for _ in range(generations):\n",
        "        fitness_scores = {tuple(p): fitness(p, graph) for p in population}\n",
        "        new_population = []\n",
        "        while len(new_population) < population_size:\n",
        "            parent1 = tournament_selection(population, fitness_scores)\n",
        "            parent2 = tournament_selection(population, fitness_scores)\n",
        "            child1, child2 = crossover(parent1, parent2, graph)\n",
        "            mutated_child1 = mutate(child1, 0.05, graph)\n",
        "            mutated_child2 = mutate(child2, 0.05, graph)\n",
        "            new_population.extend([mutated_child1, mutated_child2])\n",
        "        population = [p for p in new_population if is_valid_path(p, graph)]\n",
        "    best_path = max(population, key=lambda x: fitness(x, graph))\n",
        "    return best_path, fitness(best_path, graph)"
      ],
      "metadata": {
        "id": "GQHLIfdAvTL0"
      },
      "execution_count": null,
      "outputs": []
    },
    {
      "cell_type": "code",
      "source": [
        "best_path, best_fitness = genetic_algorithm(graphMX, 'El Rosario', 'San Lazaro', 10, 10)\n",
        "print(\"Best Path:\", best_path)\n",
        "print(\"Best Fitness:\", best_fitness)"
      ],
      "metadata": {
        "colab": {
          "base_uri": "https://localhost:8080/"
        },
        "id": "onIcaEhSDvAT",
        "outputId": "e7c4f1dc-ca3d-40ce-e53f-8d2b1906bf97"
      },
      "execution_count": null,
      "outputs": [
        {
          "output_type": "stream",
          "name": "stdout",
          "text": [
            "Best Path: ['El Rosario', 'Instituto del Petroleo', 'La Raza', 'Consulado', 'Oceania', 'San Lazaro']\n",
            "Best Fitness: 0.058823529411764705\n"
          ]
        }
      ]
    }
  ]
}